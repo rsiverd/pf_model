{
 "metadata": {
  "name": "",
  "signature": "sha256:3ecbddbd45db1ccaa993c90e9958ad0569a22ecaf1d8bcf0799ffb7fe09c12eb"
 },
 "nbformat": 3,
 "nbformat_minor": 0,
 "worksheets": [
  {
   "cells": [
    {
     "cell_type": "code",
     "collapsed": false,
     "input": [
      "import numpy as np\n",
      "import pf_model as pfm\n",
      "reload(pfm)"
     ],
     "language": "python",
     "metadata": {},
     "outputs": [
      {
       "metadata": {},
       "output_type": "pyout",
       "prompt_number": 83,
       "text": [
        "<module 'pf_model' from 'pf_model.py'>"
       ]
      }
     ],
     "prompt_number": 83
    },
    {
     "cell_type": "code",
     "collapsed": false,
     "input": [
      "x = np.linspace(-10, 10, 301)\n",
      "y = x.copy()\n",
      "x2d, y2d = np.meshgrid(x, y)\n",
      "z = 5.0 + 3.0  * x2d + 4.0  * y2d\n",
      "nharm_x = 25\n",
      "nharm_y = 25\n",
      "nharm_xy_x = 10\n",
      "nharm_xy_y = 10\n",
      "npoly_x = 25\n",
      "npoly_y = 25\n",
      "npoly_xy_x = 10\n",
      "npoly_xy_y = 10\n",
      "coeffs = pfm.pf2dfit(x, y, z, nharm_x = nharm_x, nharm_y = nharm_y, nharm_xy_x = nharm_xy_x, nharm_xy_y = nharm_xy_y,\n",
      "                     npoly_x=npoly_x, npoly_y =npoly_y, npoly_xy_x=npoly_xy_x, npoly_xy_y=npoly_xy_y)\n",
      "residuals = pfm.pf2dcalc(coeffs, x, y, npoly_x=npoly_x, npoly_y=npoly_y, npoly_xy_x=npoly_xy_x, npoly_xy_y=npoly_xy_y,\n",
      "                         nharm_x = nharm_x, nharm_y = nharm_y, nharm_xy_x = nharm_xy_x, nharm_xy_y = nharm_xy_y) - z\n",
      "np.abs(residuals.sum())"
     ],
     "language": "python",
     "metadata": {},
     "outputs": [
      {
       "metadata": {},
       "output_type": "pyout",
       "prompt_number": 84,
       "text": [
        "1.2685698891345965e-07"
       ]
      }
     ],
     "prompt_number": 84
    },
    {
     "cell_type": "code",
     "collapsed": false,
     "input": [
      "import cProfile\n",
      "cProfile.run('pfm.pf2dfit(x, y, z, nharm_x = nharm_x, nharm_y = nharm_y, nharm_xy_x = nharm_xy_x, nharm_xy_y = nharm_xy_y,npoly_x=npoly_x, npoly_y =npoly_y, npoly_xy_x=npoly_xy_x, npoly_xy_y=npoly_xy_y)')"
     ],
     "language": "python",
     "metadata": {},
     "outputs": [
      {
       "output_type": "stream",
       "stream": "stdout",
       "text": [
        "         282 function calls in 7.351 seconds\n",
        "\n",
        "   Ordered by: standard name\n",
        "\n",
        "   ncalls  tottime  percall  cumtime  percall filename:lineno(function)\n",
        "        1    0.034    0.034    7.351    7.351 <string>:1(<module>)\n",
        "        2    0.000    0.000    0.000    0.000 _methods.py:25(_amax)\n",
        "        4    0.000    0.000    0.000    0.000 _methods.py:28(_amin)\n",
        "        2    0.000    0.000    0.000    0.000 _methods.py:37(_any)\n",
        "        1    0.000    0.000    0.000    0.000 fromnumeric.py:1283(ravel)\n",
        "        2    0.000    0.000    0.000    0.000 fromnumeric.py:1764(any)\n",
        "        3    0.001    0.000    0.001    0.000 function_base.py:3273(meshgrid)\n",
        "        2    0.000    0.000    0.000    0.000 linalg.py:106(_makearray)\n",
        "        3    0.000    0.000    0.000    0.000 linalg.py:111(isComplexType)\n",
        "        3    0.000    0.000    0.000    0.000 linalg.py:124(_realType)\n",
        "        1    0.000    0.000    0.000    0.000 linalg.py:130(_linalgRealType)\n",
        "        1    0.000    0.000    0.000    0.000 linalg.py:139(_commonType)\n",
        "        1    0.000    0.000    0.000    0.000 linalg.py:168(_to_native_byte_order)\n",
        "        1    0.000    0.000    4.627    4.627 linalg.py:1733(lstsq)\n",
        "        1    0.000    0.000    0.237    0.237 linalg.py:180(_fastCopyAndTranspose)\n",
        "        1    0.000    0.000    0.000    0.000 linalg.py:192(_assertRank2)\n",
        "        4    0.000    0.000    0.000    0.000 numeric.py:141(ones)\n",
        "       27    0.000    0.000    0.000    0.000 numeric.py:394(asarray)\n",
        "        8    0.000    0.000    0.000    0.000 numeric.py:464(asanyarray)\n",
        "       12    0.235    0.020    0.235    0.020 numeric.py:998(outer)\n",
        "        1    2.413    2.413    7.318    7.318 pf_model.py:112(pf2dfit)\n",
        "        4    0.000    0.000    0.041    0.010 shape_base.py:792(tile)\n",
        "        2    0.000    0.000    0.000    0.000 {getattr}\n",
        "        1    0.000    0.000    0.000    0.000 {isinstance}\n",
        "        5    0.000    0.000    0.000    0.000 {issubclass}\n",
        "       12    0.000    0.000    0.000    0.000 {len}\n",
        "        1    0.000    0.000    0.000    0.000 {math.log}\n",
        "       14    0.000    0.000    0.000    0.000 {max}\n",
        "        2    0.000    0.000    0.000    0.000 {method '__array_prepare__' of 'numpy.ndarray' objects}\n",
        "        2    0.000    0.000    0.000    0.000 {method 'any' of 'numpy.ndarray' objects}\n",
        "        2    0.000    0.000    0.000    0.000 {method 'append' of 'list' objects}\n",
        "        1    0.000    0.000    0.000    0.000 {method 'astype' of 'numpy.ndarray' objects}\n",
        "        2    0.000    0.000    0.000    0.000 {method 'copy' of 'numpy.ndarray' objects}\n",
        "        1    0.000    0.000    0.000    0.000 {method 'disable' of '_lsprof.Profiler' objects}\n",
        "        3    0.000    0.000    0.000    0.000 {method 'get' of 'dict' objects}\n",
        "        2    0.000    0.000    0.000    0.000 {method 'max' of 'numpy.ndarray' objects}\n",
        "        4    0.000    0.000    0.000    0.000 {method 'min' of 'numpy.ndarray' objects}\n",
        "        9    0.000    0.000    0.000    0.000 {method 'pop' of 'dict' objects}\n",
        "       32    0.000    0.000    0.000    0.000 {method 'ravel' of 'numpy.ndarray' objects}\n",
        "        8    0.000    0.000    0.000    0.000 {method 'reduce' of 'numpy.ufunc' objects}\n",
        "        4    0.041    0.010    0.041    0.010 {method 'repeat' of 'numpy.ndarray' objects}\n",
        "       14    0.000    0.000    0.000    0.000 {method 'reshape' of 'numpy.ndarray' objects}\n",
        "        5    0.000    0.000    0.000    0.000 {min}\n",
        "        2    0.237    0.119    0.237    0.119 {numpy.core.multiarray._fastCopyAndTranspose}\n",
        "       45    0.000    0.000    0.000    0.000 {numpy.core.multiarray.array}\n",
        "        4    0.000    0.000    0.000    0.000 {numpy.core.multiarray.copyto}\n",
        "        4    0.000    0.000    0.000    0.000 {numpy.core.multiarray.empty}\n",
        "        6    0.000    0.000    0.000    0.000 {numpy.core.multiarray.zeros}\n",
        "        2    4.389    2.195    4.389    2.195 {numpy.linalg.lapack_lite.dgelsd}\n",
        "        8    0.000    0.000    0.000    0.000 {range}\n",
        "\n",
        "\n"
       ]
      }
     ],
     "prompt_number": 85
    },
    {
     "cell_type": "code",
     "collapsed": false,
     "input": [
      "cProfile.run('pfm.pf2dcalc(coeffs, x, y, npoly_x=npoly_x, npoly_y=npoly_y, npoly_xy_x=npoly_xy_x, npoly_xy_y=npoly_xy_y, nharm_x = nharm_x, nharm_y = nharm_y, nharm_xy_x = nharm_xy_x, nharm_xy_y = nharm_xy_y)')"
     ],
     "language": "python",
     "metadata": {},
     "outputs": [
      {
       "output_type": "stream",
       "stream": "stdout",
       "text": [
        "         250 function calls in 2.660 seconds\n",
        "\n",
        "   Ordered by: standard name\n",
        "\n",
        "   ncalls  tottime  percall  cumtime  percall filename:lineno(function)\n",
        "        1    0.000    0.000    2.660    2.660 <string>:1(<module>)\n",
        "        2    0.000    0.000    0.000    0.000 _methods.py:25(_amax)\n",
        "        4    0.000    0.000    0.000    0.000 _methods.py:28(_amin)\n",
        "       11    0.000    0.000    0.051    0.005 _methods.py:31(_sum)\n",
        "        2    0.000    0.000    0.000    0.000 _methods.py:37(_any)\n",
        "        2    0.000    0.000    0.000    0.000 fromnumeric.py:1764(any)\n",
        "        3    0.001    0.000    0.001    0.000 function_base.py:3273(meshgrid)\n",
        "        3    0.000    0.000    0.000    0.000 numeric.py:141(ones)\n",
        "       24    0.000    0.000    0.000    0.000 numeric.py:394(asarray)\n",
        "        8    0.000    0.000    0.000    0.000 numeric.py:464(asanyarray)\n",
        "       12    0.217    0.018    0.217    0.018 numeric.py:998(outer)\n",
        "        1    2.331    2.331    2.660    2.660 pf_model.py:228(pf2dcalc)\n",
        "        4    0.000    0.000    0.061    0.015 shape_base.py:792(tile)\n",
        "        9    0.000    0.000    0.000    0.000 {len}\n",
        "       12    0.000    0.000    0.000    0.000 {max}\n",
        "        2    0.000    0.000    0.000    0.000 {method 'any' of 'numpy.ndarray' objects}\n",
        "        1    0.000    0.000    0.000    0.000 {method 'disable' of '_lsprof.Profiler' objects}\n",
        "        2    0.000    0.000    0.000    0.000 {method 'max' of 'numpy.ndarray' objects}\n",
        "        4    0.000    0.000    0.000    0.000 {method 'min' of 'numpy.ndarray' objects}\n",
        "        9    0.000    0.000    0.000    0.000 {method 'pop' of 'dict' objects}\n",
        "       30    0.000    0.000    0.000    0.000 {method 'ravel' of 'numpy.ndarray' objects}\n",
        "       19    0.051    0.003    0.051    0.003 {method 'reduce' of 'numpy.ufunc' objects}\n",
        "        4    0.061    0.015    0.061    0.015 {method 'repeat' of 'numpy.ndarray' objects}\n",
        "       15    0.000    0.000    0.000    0.000 {method 'reshape' of 'numpy.ndarray' objects}\n",
        "       11    0.000    0.000    0.051    0.005 {method 'sum' of 'numpy.ndarray' objects}\n",
        "       40    0.000    0.000    0.000    0.000 {numpy.core.multiarray.array}\n",
        "        3    0.000    0.000    0.000    0.000 {numpy.core.multiarray.copyto}\n",
        "        3    0.000    0.000    0.000    0.000 {numpy.core.multiarray.empty}\n",
        "        1    0.000    0.000    0.000    0.000 {numpy.core.multiarray.zeros}\n",
        "        8    0.000    0.000    0.000    0.000 {range}\n",
        "\n",
        "\n"
       ]
      }
     ],
     "prompt_number": 86
    },
    {
     "cell_type": "code",
     "collapsed": false,
     "input": [],
     "language": "python",
     "metadata": {},
     "outputs": []
    }
   ],
   "metadata": {}
  }
 ]
}